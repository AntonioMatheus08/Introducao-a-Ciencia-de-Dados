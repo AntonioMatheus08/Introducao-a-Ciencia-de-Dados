{
  "cells": [
    {
      "cell_type": "markdown",
      "id": "01f11313",
      "metadata": {
        "id": "01f11313"
      },
      "source": [
        "# Introduction to Basic Statistical Measures with Pandas\n",
        "This notebook will guide you through some basic statistical measures using the `pandas` library. We will cover:\n",
        "1. Mean\n",
        "2. Median\n",
        "3. Mode\n",
        "4. Standard Deviation\n",
        "5. Variance\n",
        "6. Quartiles and Percentiles\n",
        "\n",
        "# Comentando mais sobre a biblioteca 'pandas', mas primeiramente iremos definir o que é uma biblioteca:\n",
        "\n",
        "Uma biblioteca, em programação, é um conjunto de códigos, funções e rotinas pré-escritas que podem ser reutilizadas por desenvolvedores. Ela fornece funcionalidades específicas que simplificam o desenvolvimento de software, permitindo que os programadores se concentrem na lógica de seus aplicativos sem precisar implementar tudo do zero.\n",
        "\n",
        "As bibliotecas podem incluir:\n",
        "\n",
        "1. **Funções utilitárias**: Códigos para tarefas comuns, como manipulação de strings, operações matemáticas ou leitura e escrita de arquivos.\n",
        "2. **APIs**: Interfaces para interagir com serviços externos, como bancos de dados ou APIs da web.\n",
        "3. **Estruturas de dados**: Implementações de estruturas como listas, árvores ou grafos.\n",
        "4. **Ferramentas específicas**: Funcionalidades para áreas específicas, como ciência de dados, machine learning ou desenvolvimento web.\n",
        "\n",
        "Bibliotecas podem ser instaladas e gerenciadas facilmente através de gerenciadores de pacotes, como `pip` para Python.\n",
        "\n",
        "Em relação a bilbioteca pandas em si, temos:\n",
        "A biblioteca `pandas` é uma ferramenta poderosa e amplamente utilizada em Python para análise e manipulação de dados. Aqui estão alguns pontos principais:\n",
        "\n",
        "1. **Estruturas de Dados**: O `pandas` oferece duas principais estruturas de dados: `Series` (1D) e `DataFrame` (2D). O `DataFrame` é especialmente útil para trabalhar com tabelas, permitindo a manipulação de dados em formato de tabela com colunas e índices.\n",
        "\n",
        "2. **Manipulação de Dados**: Permite filtrar, agregar, ordenar e transformar dados de maneira eficiente. Funcionalidades como `groupby`, `merge`, e `join` facilitam a combinação e análise de conjuntos de dados complexos.\n",
        "\n",
        "3. **Leitura e Escrita de Dados**: O `pandas` pode ler dados de várias fontes, como arquivos CSV, Excel, SQL, e JSON, além de escrever dados nessas mesmas formatos.\n",
        "\n",
        "4. **Análise Estatística**: Oferece funções para calcular medidas estatísticas, como média, mediana, desvio padrão, e muito mais, permitindo uma análise rápida e eficaz.\n",
        "\n",
        "5. **Tratamento de Dados Faltantes**: Possui ferramentas para detectar e lidar com dados ausentes, incluindo preenchimento, exclusão ou interpolação.\n",
        "\n",
        "6. **Integração com outras bibliotecas**: Funciona bem com outras bibliotecas populares de ciência de dados, como NumPy, Matplotlib e Scikit-learn, tornando-o uma escolha popular para análise e visualização de dados.\n",
        "\n",
        "Com sua flexibilidade e funcionalidades robustas, o `pandas` é uma das bibliotecas essenciais para quem trabalha com dados em Python.\n",
        "\n",
        "Naquilo que tange ao código que será analisado:\n",
        "\n",
        "Este notebook introduz medidas estatísticas básicas usando a biblioteca `pandas`. Aqui está um resumo dos tópicos abordados:\n",
        "\n",
        "1. **Média**: A soma dos valores dividida pelo número total de observações.\n",
        "2. **Mediana**: O valor central em um conjunto de dados ordenados.\n",
        "3. **Moda**: O valor que aparece com mais frequência em um conjunto de dados.\n",
        "4. **Desvio Padrão**: Mede a dispersão dos dados em relação à média.\n",
        "5. **Variância**: O quadrado do desvio padrão, representando a variabilidade dos dados.\n",
        "6. **Quartis e Percentis**: Quartis dividem os dados em quatro partes iguais, enquanto percentis os dividem em cem partes, ajudando a entender a distribuição dos dados.\n",
        "\n",
        "O `pandas` facilita o cálculo e a visualização dessas medidas."
      ]
    },
    {
      "cell_type": "markdown",
      "source": [
        "## Importing Necessary Libraries\n",
        "First, we will import the necessary libraries.\n",
        "\n",
        "\"Importing Necessary Libraries\" refere-se ao processo de carregar bibliotecas específicas que você precisa usar em seu código. Em Python, isso é feito com a palavra-chave `import`.\n",
        "\n",
        "Ao importar bibliotecas, você ganha acesso a funções, classes e métodos que facilitam a realização de tarefas específicas. Por exemplo, se você deseja realizar análise de dados, pode importar a biblioteca `pandas`, que oferece funcionalidades para manipulação de dados.\n",
        "\n",
        "O processo geralmente ocorre no início do seu script ou notebook e pode incluir outras bibliotecas, como `numpy` para operações numéricas ou `matplotlib` para visualização de dados.\n",
        "\n",
        "Aqui está um exemplo simples:\n",
        "\n",
        "```python\n",
        "import pandas as pd\n",
        "import numpy as np\n",
        "import matplotlib.pyplot as plt\n",
        "```\n",
        "\n",
        "Neste exemplo, `pandas` é importado como `pd`, `numpy` como `np`, e `matplotlib.pyplot` como `plt`, permitindo que você use essas abreviações ao longo do código."
      ],
      "metadata": {
        "id": "dp-9DQOrMeA-"
      },
      "id": "dp-9DQOrMeA-"
    },
    {
      "cell_type": "code",
      "execution_count": 28,
      "id": "593697cf",
      "metadata": {
        "id": "593697cf"
      },
      "outputs": [],
      "source": [
        "import pandas as pd\n",
        "import matplotlib.pyplot as plt"
      ]
    },
    {
      "cell_type": "markdown",
      "id": "69e9a8af",
      "metadata": {
        "id": "69e9a8af"
      },
      "source": [
        "## Creating the DataFrame\n",
        "Let's create a DataFrame with the data we will use in the examples.\n",
        "\n",
        "#Explicação\n",
        "\n",
        "\"Creating the DataFrame\" refere-se à construção de um `DataFrame` utilizando a biblioteca `pandas`, que permite organizar dados de forma tabular.\n",
        "\n",
        "No exemplo que você forneceu:\n",
        "\n",
        "```python\n",
        "import pandas as pd\n",
        "\n",
        "# Criando o DataFrame\n",
        "data = pd.DataFrame({'values': [10, 20, 30, 40, 50]})\n",
        "print(data)\n",
        "```\n",
        "\n",
        "1. **Importação do Pandas**: A biblioteca `pandas` é importada para que possamos usar suas funcionalidades.\n",
        "\n",
        "2. **Criação do DataFrame**: Usamos `pd.DataFrame()` para criar um `DataFrame`. Dentro dela, passamos um dicionário onde:\n",
        "   - A chave `'values'` é o nome da coluna.\n",
        "   - O valor associado é uma lista `[10, 20, 30, 40, 50]`, que representa os dados dessa coluna.\n",
        "\n",
        "3. **Impressão do DataFrame**: O comando `print(data)` exibe o conteúdo do `DataFrame`, que será uma tabela com uma coluna chamada \"values\" e cinco linhas correspondentes aos números 10, 20, 30, 40 e 50.\n",
        "\n",
        "O resultado será algo assim:\n",
        "\n",
        "```\n",
        "   values\n",
        "0      10\n",
        "1      20\n",
        "2      30\n",
        "3      40\n",
        "4      50\n",
        "```\n",
        "\n",
        "Isso mostra que o `DataFrame` foi criado corretamente, permitindo agora que você realize operações e análises sobre esses dados."
      ]
    },
    {
      "cell_type": "code",
      "execution_count": 29,
      "id": "6ce414f1",
      "metadata": {
        "id": "6ce414f1",
        "colab": {
          "base_uri": "https://localhost:8080/"
        },
        "outputId": "f1fa9239-c367-40ee-9691-822be1131eba"
      },
      "outputs": [
        {
          "output_type": "stream",
          "name": "stdout",
          "text": [
            "   values\n",
            "0      10\n",
            "1      20\n",
            "2      30\n",
            "3      40\n",
            "4      50\n"
          ]
        }
      ],
      "source": [
        "# Creating the DataFrame\n",
        "data = pd.DataFrame({'values': [10, 20, 30, 40, 50]})\n",
        "print(data)"
      ]
    },
    {
      "cell_type": "markdown",
      "id": "e3722a78",
      "metadata": {
        "id": "e3722a78"
      },
      "source": [
        "## 1. Mean\n",
        "The mean is the sum of all values divided by the number of values.\n",
        "\n",
        "O conceito de \"Mean\" (média) é uma medida estatística que representa o valor central de um conjunto de dados. Ela é calculada somando todos os valores e dividindo pelo número total de valores.\n",
        "\n",
        "No exemplo que você forneceu:\n",
        "\n",
        "```python\n",
        "# Exemplo de cálculo da média\n",
        "mean = data['values'].mean()\n",
        "print(\"Mean:\", mean)\n",
        "```\n",
        "\n",
        "1. **Cálculo da Média**: `data['values'].mean()` usa o método `mean()` do `pandas` para calcular a média da coluna `'values'` do `DataFrame` chamado `data`.\n",
        "\n",
        "2. **Impressão do Resultado**: O resultado da média é impresso na tela.\n",
        "\n",
        "Se os valores no `DataFrame` são `[10, 20, 30, 40, 50]`, a média é calculada da seguinte forma:\n",
        "\n",
        "\\[\n",
        "\\text{Média} = \\frac{10 + 20 + 30 + 40 + 50}{5} = \\frac{150}{5} = 30\n",
        "\\]\n",
        "\n",
        "Portanto, a saída será:\n",
        "\n",
        "```\n",
        "Mean: 30.0\n",
        "```\n",
        "\n",
        "Isso indica que a média dos valores na coluna é 30.\n",
        "\n"
      ]
    },
    {
      "cell_type": "code",
      "execution_count": 30,
      "id": "8e617b70",
      "metadata": {
        "id": "8e617b70",
        "colab": {
          "base_uri": "https://localhost:8080/"
        },
        "outputId": "8a150180-8515-4e37-ec34-048eb8bfdbca"
      },
      "outputs": [
        {
          "output_type": "stream",
          "name": "stdout",
          "text": [
            "Mean: 30.0\n"
          ]
        }
      ],
      "source": [
        "# Example of calculating the mean\n",
        "mean = data['values'].mean()\n",
        "print(\"Mean:\", mean)"
      ]
    },
    {
      "cell_type": "markdown",
      "id": "e15053b1",
      "metadata": {
        "id": "e15053b1"
      },
      "source": [
        "## 2. Median\n",
        "The median is the middle value when the data is ordered.\n",
        "\n",
        "#Explicação\n",
        "A **mediana** é uma medida estatística que representa o valor central de um conjunto de dados ordenados. Se o número de valores for ímpar, a mediana é o valor do meio. Se for par, é a média dos dois valores centrais.\n",
        "\n",
        "No seu exemplo:\n",
        "\n",
        "```python\n",
        "# Exemplo de cálculo da mediana\n",
        "median = data['values'].median()\n",
        "print(\"Median:\", median)\n",
        "```\n",
        "\n",
        "1. **Cálculo da Mediana**: O método `median()` do `pandas` é utilizado para calcular a mediana da coluna `'values'` do `DataFrame` chamado `data`.\n",
        "\n",
        "2. **Impressão do Resultado**: O resultado da mediana é exibido.\n",
        "\n",
        "Para os valores `[10, 20, 30, 40, 50]`:\n",
        "\n",
        "- Eles já estão ordenados.\n",
        "- O número de valores é ímpar (5 valores).\n",
        "- A mediana é o terceiro valor (30), que está no meio.\n",
        "\n",
        "Portanto, a saída será:\n",
        "\n",
        "```\n",
        "Median: 30.0\n",
        "```\n",
        "\n",
        "Isso indica que a mediana dos valores na coluna é 30."
      ]
    },
    {
      "cell_type": "code",
      "execution_count": 31,
      "id": "6eb4da6b",
      "metadata": {
        "id": "6eb4da6b",
        "colab": {
          "base_uri": "https://localhost:8080/"
        },
        "outputId": "4ec947f7-186c-4124-961d-f96c1d7d2c85"
      },
      "outputs": [
        {
          "output_type": "stream",
          "name": "stdout",
          "text": [
            "Median: 30.0\n"
          ]
        }
      ],
      "source": [
        "# Example of calculating the median\n",
        "median = data['values'].median()\n",
        "print(\"Median:\", median)"
      ]
    },
    {
      "cell_type": "markdown",
      "id": "7bdbe0ef",
      "metadata": {
        "id": "7bdbe0ef"
      },
      "source": [
        "## 3. Mode\n",
        "The mode is the value that appears most frequently in the data.\n",
        "\n",
        "#Explicação\n",
        "A **moda** é a medida estatística que representa o valor que aparece com mais frequência em um conjunto de dados. Se não houver valores repetidos, o conjunto pode ser considerado como não tendo uma moda.\n",
        "\n",
        "No seu exemplo:\n",
        "\n",
        "```python\n",
        "# Exemplo de cálculo da moda\n",
        "mode = data['values'].mode()\n",
        "print(\"Mode:\", mode[0])\n",
        "```\n",
        "\n",
        "1. **Cálculo da Moda**: O método `mode()` do `pandas` é utilizado para calcular a moda da coluna `'values'` do `DataFrame` chamado `data`. Esse método retorna uma `Series` com todos os valores que são modas.\n",
        "\n",
        "2. **Impressão do Resultado**: `mode[0]` acessa o primeiro valor da série de modas, caso haja mais de uma.\n",
        "\n",
        "Se os valores no `DataFrame` forem `[10, 20, 30, 40, 50]`, todos aparecem uma vez, o que significa que não há uma moda clara, pois não há valores repetidos.\n",
        "\n",
        "A saída será:\n",
        "\n",
        "```\n",
        "Mode: 10\n",
        "```\n",
        "\n",
        "Isso indica que, nesse caso, qualquer valor pode ser considerado como modo, já que não há repetições."
      ]
    },
    {
      "cell_type": "code",
      "execution_count": 32,
      "id": "715d64c5",
      "metadata": {
        "id": "715d64c5",
        "colab": {
          "base_uri": "https://localhost:8080/"
        },
        "outputId": "e6b40199-f3e0-40ec-f07b-b0d8c84439ea"
      },
      "outputs": [
        {
          "output_type": "stream",
          "name": "stdout",
          "text": [
            "Mode: 10\n"
          ]
        }
      ],
      "source": [
        "# Example of calculating the mode\n",
        "mode = data['values'].mode()\n",
        "print(\"Mode:\", mode[0])"
      ]
    },
    {
      "cell_type": "markdown",
      "id": "d2a707fd",
      "metadata": {
        "id": "d2a707fd"
      },
      "source": [
        "## 4. Standard Deviation\n",
        "The standard deviation measures the dispersion of the data relative to the mean.\n",
        "\n",
        "#Explicação\n",
        "O **desvio padrão** é uma medida que quantifica a dispersão ou a variação dos dados em relação à média. Um desvio padrão baixo indica que os dados estão próximos da média, enquanto um desvio padrão alto indica que os dados estão mais espalhados.\n",
        "\n",
        "No seu exemplo:\n",
        "\n",
        "```python\n",
        "# Exemplo de cálculo do desvio padrão\n",
        "std_dev = data['values'].std()\n",
        "print(\"Standard Deviation:\", std_dev)\n",
        "```\n",
        "\n",
        "1. **Cálculo do Desvio Padrão**: O método `std()` do `pandas` é utilizado para calcular o desvio padrão da coluna `'values'` do `DataFrame` chamado `data`.\n",
        "\n",
        "2. **Impressão do Resultado**: O valor do desvio padrão é exibido.\n",
        "\n",
        "Para os valores `[10, 20, 30, 40, 50]`, o cálculo do desvio padrão é feito considerando a média (30) e a variação dos dados em relação a ela. O desvio padrão é calculado com a fórmula:\n",
        "\n",
        "\\[\n",
        "\\sigma = \\sqrt{\\frac{\\sum (x_i - \\mu)^2}{n - 1}}\n",
        "\\]\n",
        "\n",
        "onde \\(x_i\\) são os valores, \\(\\mu\\) é a média e \\(n\\) é o número de valores.\n",
        "\n",
        "O resultado pode ser, por exemplo:\n",
        "\n",
        "```\n",
        "Standard Deviation: 15.811388300841896\n",
        "```\n",
        "\n",
        "Isso indica que, em média, os valores estão a cerca de 15.81 unidades da média (30), refletindo a dispersão dos dados."
      ]
    },
    {
      "cell_type": "code",
      "execution_count": 33,
      "id": "000bba44",
      "metadata": {
        "id": "000bba44",
        "colab": {
          "base_uri": "https://localhost:8080/"
        },
        "outputId": "d52cd778-8f40-4792-b946-c731f1a202e0"
      },
      "outputs": [
        {
          "output_type": "stream",
          "name": "stdout",
          "text": [
            "Standard Deviation: 15.811388300841896\n"
          ]
        }
      ],
      "source": [
        "# Example of calculating the standard deviation\n",
        "std_dev = data['values'].std()\n",
        "print(\"Standard Deviation:\", std_dev)"
      ]
    },
    {
      "cell_type": "markdown",
      "id": "96415f42",
      "metadata": {
        "id": "96415f42"
      },
      "source": [
        "## 5. Variance\n",
        "The variance is the square of the standard deviation.\n",
        "\n",
        "#Explicação\n",
        "A **variância** é uma medida estatística que quantifica a dispersão dos dados em relação à média, e é calculada como o quadrado do desvio padrão. Ela indica o quanto os valores de um conjunto de dados se afastam da média, em média.\n",
        "\n",
        "No seu exemplo:\n",
        "\n",
        "```python\n",
        "# Exemplo de cálculo da variância\n",
        "variance = data['values'].var()\n",
        "print(\"Variance:\", variance)\n",
        "```\n",
        "\n",
        "1. **Cálculo da Variância**: O método `var()` do `pandas` é utilizado para calcular a variância da coluna `'values'` do `DataFrame` chamado `data`.\n",
        "\n",
        "2. **Impressão do Resultado**: O valor da variância é exibido.\n",
        "\n",
        "Para os valores `[10, 20, 30, 40, 50]`, a variância é calculada usando a fórmula:\n",
        "\n",
        "\\[\n",
        "\\sigma^2 = \\frac{\\sum (x_i - \\mu)^2}{n - 1}\n",
        "\\]\n",
        "\n",
        "onde \\(x_i\\) são os valores, \\(\\mu\\) é a média, e \\(n\\) é o número de valores. A variância é o quadrado do desvio padrão.\n",
        "\n",
        "O resultado pode ser algo como:\n",
        "\n",
        "```\n",
        "Variance: 250.0\n",
        "```\n",
        "\n",
        "Isso indica que, em média, os valores estão dispersos em 250 unidades quadradas em relação à média."
      ]
    },
    {
      "cell_type": "code",
      "execution_count": 34,
      "id": "5e88e1cd",
      "metadata": {
        "id": "5e88e1cd",
        "colab": {
          "base_uri": "https://localhost:8080/"
        },
        "outputId": "a935ba73-8404-4ba9-af60-d8f9b81f3def"
      },
      "outputs": [
        {
          "output_type": "stream",
          "name": "stdout",
          "text": [
            "Variance: 250.0\n"
          ]
        }
      ],
      "source": [
        "# Example of calculating the variance\n",
        "variance = data['values'].var()\n",
        "print(\"Variance:\", variance)"
      ]
    },
    {
      "cell_type": "markdown",
      "id": "a221087d",
      "metadata": {
        "id": "a221087d"
      },
      "source": [
        "## 6. Quartiles and Percentiles\n",
        "Quartiles divide the data into four equal parts. Percentiles are similar but divide the data into 100 equal parts.\n",
        "\n",
        "#Explicação\n",
        "\n",
        "**Quartis** e **percentis** são medidas estatísticas que ajudam a entender a distribuição dos dados.\n",
        "\n",
        "1. **Quartis**: Dividem os dados em quatro partes iguais:\n",
        "   - **Q1 (1º Quartil)**: 25% dos dados estão abaixo deste valor.\n",
        "   - **Q2 (2º Quartil)**: 50% dos dados estão abaixo deste valor, que é também a mediana.\n",
        "   - **Q3 (3º Quartil)**: 75% dos dados estão abaixo deste valor.\n",
        "\n",
        "2. **Percentis**: Dividem os dados em 100 partes iguais. Por exemplo, o 90º percentil indica que 90% dos dados estão abaixo desse valor.\n",
        "\n",
        "No seu exemplo:\n",
        "\n",
        "```python\n",
        "# Exemplo de cálculo dos quartis\n",
        "Q1 = data['values'].quantile(0.25)\n",
        "Q2 = data['values'].quantile(0.50)\n",
        "Q3 = data['values'].quantile(0.75)\n",
        "print(\"1st Quartile (Q1):\", Q1)\n",
        "print(\"2nd Quartile (Q2):\", Q2)  # Isso é o mesmo que a mediana\n",
        "print(\"3rd Quartile (Q3):\", Q3)\n",
        "\n",
        "# Exemplo de cálculo de percentis\n",
        "percentile_90 = data['values'].quantile(0.90)\n",
        "print(\"90th Percentile:\", percentile_90)\n",
        "```\n",
        "\n",
        "### Resultados:\n",
        "- **Q1** (1º Quartil): O valor abaixo do qual 25% dos dados se encontram.\n",
        "- **Q2** (Mediana ou 2º Quartil): O valor abaixo do qual 50% dos dados se encontram.\n",
        "- **Q3** (3º Quartil): O valor abaixo do qual 75% dos dados se encontram.\n",
        "- **Percentil 90**: O valor abaixo do qual 90% dos dados se encontram.\n",
        "\n",
        "Essas medidas ajudam a compreender a distribuição e a variabilidade dos dados, permitindo uma análise mais profunda."
      ]
    },
    {
      "cell_type": "code",
      "execution_count": 35,
      "id": "3bc76b5f",
      "metadata": {
        "id": "3bc76b5f",
        "colab": {
          "base_uri": "https://localhost:8080/"
        },
        "outputId": "2e0aab43-c689-4f65-f7b3-c0ad1cea1a02"
      },
      "outputs": [
        {
          "output_type": "stream",
          "name": "stdout",
          "text": [
            "1st Quartile (Q1): 20.0\n",
            "2nd Quartile (Q2): 30.0\n",
            "3rd Quartile (Q3): 40.0\n",
            "90th Percentile: 46.0\n"
          ]
        }
      ],
      "source": [
        "# Example of calculating quartiles\n",
        "Q1 = data['values'].quantile(0.25)\n",
        "Q2 = data['values'].quantile(0.50)\n",
        "Q3 = data['values'].quantile(0.75)\n",
        "print(\"1st Quartile (Q1):\", Q1)\n",
        "print(\"2nd Quartile (Q2):\", Q2)  # This is the same as the median\n",
        "print(\"3rd Quartile (Q3):\", Q3)\n",
        "\n",
        "# Example of calculating percentiles\n",
        "percentile_90 = data['values'].quantile(0.90)\n",
        "print(\"90th Percentile:\", percentile_90)"
      ]
    },
    {
      "cell_type": "markdown",
      "id": "45efab78",
      "metadata": {
        "id": "45efab78"
      },
      "source": [
        "## Data Visualisation\n",
        "Let's use a boxplot to visualise the distribution of the data.\n",
        "\n",
        "#Explicação\n",
        "A **visualização de dados** é uma maneira eficaz de representar graficamente as características de um conjunto de dados. O **boxplot** (ou diagrama de caixa) é uma ferramenta comum que ajuda a visualizar a distribuição dos dados, mostrando medidas como a mediana, quartis e possíveis outliers.\n",
        "\n",
        "No seu exemplo:\n",
        "\n",
        "```python\n",
        "import matplotlib.pyplot as plt\n",
        "\n",
        "# Exemplo de visualização com boxplot\n",
        "plt.boxplot(data['values'])\n",
        "plt.title(\"Boxplot of the Data\")\n",
        "plt.show()\n",
        "```\n",
        "\n",
        "### Componentes do Boxplot:\n",
        "1. **Caixa**: Representa o intervalo interquartil (IQR), que é a diferença entre o 1º (Q1) e o 3º (Q3) quartis. A caixa mostra onde está a metade central dos dados.\n",
        "2. **Linha dentro da Caixa**: Indica a mediana (Q2) dos dados.\n",
        "3. **\"Whiskers\" (Barra)**: Extendem-se até o menor e maior valor dentro de 1,5 vezes o IQR a partir dos quartis. Valores além disso são considerados outliers.\n",
        "4. **Outliers**: Representados como pontos individuais que estão distantes dos whiskers.\n",
        "\n",
        "### Resultado:\n",
        "Quando você executa o código, um gráfico de boxplot será exibido, mostrando a distribuição dos valores na coluna `'values'`. Isso ajuda a identificar a simetria, a dispersão e a presença de outliers nos dados."
      ]
    },
    {
      "cell_type": "code",
      "execution_count": 36,
      "id": "29165df6",
      "metadata": {
        "id": "29165df6",
        "colab": {
          "base_uri": "https://localhost:8080/",
          "height": 452
        },
        "outputId": "e0f0162a-7055-4feb-c31e-d11884ecdb14"
      },
      "outputs": [
        {
          "output_type": "display_data",
          "data": {
            "text/plain": [
              "<Figure size 640x480 with 1 Axes>"
            ],
            "image/png": "[encoded data removed]"
          },
          "metadata": {}
        }
      ],
      "source": [
        "# Example of visualisation with boxplot\n",
        "plt.boxplot(data['values'])\n",
        "plt.title(\"Boxplot of the Data\")\n",
        "plt.show()"
      ]
    },
    {
      "cell_type": "markdown",
      "id": "e21e8421",
      "metadata": {
        "id": "e21e8421"
      },
      "source": [
        "## Conclusion\n",
        "In this notebook, we covered some basic statistical measures, including mean, median, mode, standard deviation, variance, quartiles, and percentiles. Additionally, we visualised the distribution of the data using a boxplot. We hope this notebook helps you better understand these measures and how to apply them to your data.\n",
        "\n",
        "#Explicação\n",
        "\n",
        "## Conclusion\n",
        "\n",
        "Neste notebook, abordamos algumas medidas estatísticas básicas, incluindo:\n",
        "\n",
        "- **Média**: O valor central calculado pela soma dos dados dividida pelo número total de observações.\n",
        "- **Mediana**: O valor do meio em um conjunto de dados ordenados.\n",
        "- **Moda**: O valor que aparece com mais frequência nos dados.\n",
        "- **Desvio Padrão**: A medida da dispersão dos dados em relação à média.\n",
        "- **Variância**: O quadrado do desvio padrão, representando a variabilidade dos dados.\n",
        "- **Quartis**: Valores que dividem os dados em quatro partes iguais.\n",
        "- **Percentis**: Valores que dividem os dados em 100 partes iguais.\n",
        "\n",
        "Além disso, visualizamos a distribuição dos dados usando um **boxplot**, que fornece insights sobre a simetria, dispersão e a presença de outliers.\n",
        "\n",
        "Esperamos que este notebook ajude você a entender melhor essas medidas e como aplicá-las aos seus dados."
      ]
    }
  ],
  "metadata": {
    "colab": {
      "provenance": []
    },
    "language_info": {
      "name": "python"
    },
    "kernelspec": {
      "name": "python3",
      "display_name": "Python 3"
    }
  },
  "nbformat": 4,
  "nbformat_minor": 5
}